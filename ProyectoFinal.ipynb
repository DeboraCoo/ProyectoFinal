{
 "cells": [
  {
   "cell_type": "markdown",
   "metadata": {},
   "source": [
    "#                           **PROYECTO FINAL**\n",
    "### **Universidad Galileo**\n",
    "### **Ciencia de Datos en Python**\n",
    "#### __Integrantes del Grupo:__\n",
    "<ol>\n",
    "<li>05244009 - Debora Coo</li>\n",
    "<li>20004646 - Jarileen Rucal</li>\n",
    "<li>20004048 - Maria Reyes</li>\n",
    "</ol>"
   ]
  },
  {
   "cell_type": "markdown",
   "metadata": {},
   "source": [
    "### Paso1: Importación de Librerias"
   ]
  },
  {
   "cell_type": "code",
   "execution_count": 443,
   "metadata": {},
   "outputs": [],
   "source": [
    "import numpy as np\n",
    "import matplotlib.pyplot as plt\n",
    "import pandas as pd"
   ]
  },
  {
   "cell_type": "markdown",
   "metadata": {},
   "source": [
    "### Paso2: Importación de archivo npy"
   ]
  },
  {
   "cell_type": "code",
   "execution_count": 444,
   "metadata": {},
   "outputs": [
    {
     "data": {
      "text/plain": [
       "array([[2.08500e+05, 7.00000e+00, 8.56000e+02, 8.00000e+00, 2.00300e+03,\n",
       "        6.50000e+01],\n",
       "       [1.81500e+05, 6.00000e+00, 1.26200e+03, 6.00000e+00, 1.97600e+03,\n",
       "        8.00000e+01],\n",
       "       [2.23500e+05, 7.00000e+00, 9.20000e+02, 6.00000e+00, 2.00100e+03,\n",
       "        6.80000e+01],\n",
       "       ...,\n",
       "       [2.66500e+05, 7.00000e+00, 1.18800e+03, 9.00000e+00, 1.94100e+03,\n",
       "        6.60000e+01],\n",
       "       [1.42125e+05, 5.00000e+00, 1.07800e+03, 5.00000e+00, 1.95000e+03,\n",
       "        6.80000e+01],\n",
       "       [1.47500e+05, 5.00000e+00, 1.25600e+03, 6.00000e+00, 1.96500e+03,\n",
       "        7.50000e+01]])"
      ]
     },
     "execution_count": 444,
     "metadata": {},
     "output_type": "execute_result"
    }
   ],
   "source": [
    "data = np.load('proyecto_training_data.npy')\n",
    "data"
   ]
  },
  {
   "cell_type": "code",
   "execution_count": 445,
   "metadata": {},
   "outputs": [
    {
     "data": {
      "text/html": [
       "<div>\n",
       "<style scoped>\n",
       "    .dataframe tbody tr th:only-of-type {\n",
       "        vertical-align: middle;\n",
       "    }\n",
       "\n",
       "    .dataframe tbody tr th {\n",
       "        vertical-align: top;\n",
       "    }\n",
       "\n",
       "    .dataframe thead th {\n",
       "        text-align: right;\n",
       "    }\n",
       "</style>\n",
       "<table border=\"1\" class=\"dataframe\">\n",
       "  <thead>\n",
       "    <tr style=\"text-align: right;\">\n",
       "      <th></th>\n",
       "      <th>SalePrice</th>\n",
       "      <th>OverallQual</th>\n",
       "      <th>1stFlrSF</th>\n",
       "      <th>TotRmAbvGrd</th>\n",
       "      <th>YearBuilt</th>\n",
       "      <th>LotFrontage</th>\n",
       "    </tr>\n",
       "  </thead>\n",
       "  <tbody>\n",
       "    <tr>\n",
       "      <th>0</th>\n",
       "      <td>208500.0</td>\n",
       "      <td>7.0</td>\n",
       "      <td>856.0</td>\n",
       "      <td>8.0</td>\n",
       "      <td>2003.0</td>\n",
       "      <td>65.0</td>\n",
       "    </tr>\n",
       "    <tr>\n",
       "      <th>1</th>\n",
       "      <td>181500.0</td>\n",
       "      <td>6.0</td>\n",
       "      <td>1262.0</td>\n",
       "      <td>6.0</td>\n",
       "      <td>1976.0</td>\n",
       "      <td>80.0</td>\n",
       "    </tr>\n",
       "    <tr>\n",
       "      <th>2</th>\n",
       "      <td>223500.0</td>\n",
       "      <td>7.0</td>\n",
       "      <td>920.0</td>\n",
       "      <td>6.0</td>\n",
       "      <td>2001.0</td>\n",
       "      <td>68.0</td>\n",
       "    </tr>\n",
       "    <tr>\n",
       "      <th>3</th>\n",
       "      <td>140000.0</td>\n",
       "      <td>7.0</td>\n",
       "      <td>961.0</td>\n",
       "      <td>7.0</td>\n",
       "      <td>1915.0</td>\n",
       "      <td>60.0</td>\n",
       "    </tr>\n",
       "    <tr>\n",
       "      <th>4</th>\n",
       "      <td>250000.0</td>\n",
       "      <td>8.0</td>\n",
       "      <td>1145.0</td>\n",
       "      <td>9.0</td>\n",
       "      <td>2000.0</td>\n",
       "      <td>84.0</td>\n",
       "    </tr>\n",
       "    <tr>\n",
       "      <th>...</th>\n",
       "      <td>...</td>\n",
       "      <td>...</td>\n",
       "      <td>...</td>\n",
       "      <td>...</td>\n",
       "      <td>...</td>\n",
       "      <td>...</td>\n",
       "    </tr>\n",
       "    <tr>\n",
       "      <th>1455</th>\n",
       "      <td>175000.0</td>\n",
       "      <td>6.0</td>\n",
       "      <td>953.0</td>\n",
       "      <td>7.0</td>\n",
       "      <td>1999.0</td>\n",
       "      <td>62.0</td>\n",
       "    </tr>\n",
       "    <tr>\n",
       "      <th>1456</th>\n",
       "      <td>210000.0</td>\n",
       "      <td>6.0</td>\n",
       "      <td>2073.0</td>\n",
       "      <td>7.0</td>\n",
       "      <td>1978.0</td>\n",
       "      <td>85.0</td>\n",
       "    </tr>\n",
       "    <tr>\n",
       "      <th>1457</th>\n",
       "      <td>266500.0</td>\n",
       "      <td>7.0</td>\n",
       "      <td>1188.0</td>\n",
       "      <td>9.0</td>\n",
       "      <td>1941.0</td>\n",
       "      <td>66.0</td>\n",
       "    </tr>\n",
       "    <tr>\n",
       "      <th>1458</th>\n",
       "      <td>142125.0</td>\n",
       "      <td>5.0</td>\n",
       "      <td>1078.0</td>\n",
       "      <td>5.0</td>\n",
       "      <td>1950.0</td>\n",
       "      <td>68.0</td>\n",
       "    </tr>\n",
       "    <tr>\n",
       "      <th>1459</th>\n",
       "      <td>147500.0</td>\n",
       "      <td>5.0</td>\n",
       "      <td>1256.0</td>\n",
       "      <td>6.0</td>\n",
       "      <td>1965.0</td>\n",
       "      <td>75.0</td>\n",
       "    </tr>\n",
       "  </tbody>\n",
       "</table>\n",
       "<p>1460 rows × 6 columns</p>\n",
       "</div>"
      ],
      "text/plain": [
       "      SalePrice  OverallQual  1stFlrSF  TotRmAbvGrd  YearBuilt  LotFrontage\n",
       "0      208500.0          7.0     856.0          8.0     2003.0         65.0\n",
       "1      181500.0          6.0    1262.0          6.0     1976.0         80.0\n",
       "2      223500.0          7.0     920.0          6.0     2001.0         68.0\n",
       "3      140000.0          7.0     961.0          7.0     1915.0         60.0\n",
       "4      250000.0          8.0    1145.0          9.0     2000.0         84.0\n",
       "...         ...          ...       ...          ...        ...          ...\n",
       "1455   175000.0          6.0     953.0          7.0     1999.0         62.0\n",
       "1456   210000.0          6.0    2073.0          7.0     1978.0         85.0\n",
       "1457   266500.0          7.0    1188.0          9.0     1941.0         66.0\n",
       "1458   142125.0          5.0    1078.0          5.0     1950.0         68.0\n",
       "1459   147500.0          5.0    1256.0          6.0     1965.0         75.0\n",
       "\n",
       "[1460 rows x 6 columns]"
      ]
     },
     "execution_count": 445,
     "metadata": {},
     "output_type": "execute_result"
    }
   ],
   "source": [
    "datos = pd.DataFrame(data, columns = ['SalePrice','OverallQual','1stFlrSF','TotRmAbvGrd','YearBuilt','LotFrontage'])\n",
    "datos"
   ]
  },
  {
   "cell_type": "markdown",
   "metadata": {},
   "source": [
    "### Separación de Datos"
   ]
  },
  {
   "cell_type": "code",
   "execution_count": 446,
   "metadata": {},
   "outputs": [
    {
     "name": "stdout",
     "output_type": "stream",
     "text": [
      "Ejemplos usados para entrenar:  1168\n",
      "Ejemplos usados para test:  292\n"
     ]
    }
   ],
   "source": [
    "from sklearn.model_selection import train_test_split \n",
    "datos_train, datos_test = train_test_split(datos, test_size = 0.20)\n",
    "\n",
    "print(\"Ejemplos usados para entrenar: \", len(datos_train))\n",
    "print(\"Ejemplos usados para test: \", len(datos_test))"
   ]
  },
  {
   "cell_type": "code",
   "execution_count": 447,
   "metadata": {},
   "outputs": [
    {
     "data": {
      "text/html": [
       "<div>\n",
       "<style scoped>\n",
       "    .dataframe tbody tr th:only-of-type {\n",
       "        vertical-align: middle;\n",
       "    }\n",
       "\n",
       "    .dataframe tbody tr th {\n",
       "        vertical-align: top;\n",
       "    }\n",
       "\n",
       "    .dataframe thead th {\n",
       "        text-align: right;\n",
       "    }\n",
       "</style>\n",
       "<table border=\"1\" class=\"dataframe\">\n",
       "  <thead>\n",
       "    <tr style=\"text-align: right;\">\n",
       "      <th></th>\n",
       "      <th>SalePrice</th>\n",
       "      <th>OverallQual</th>\n",
       "      <th>1stFlrSF</th>\n",
       "      <th>TotRmAbvGrd</th>\n",
       "      <th>YearBuilt</th>\n",
       "      <th>LotFrontage</th>\n",
       "    </tr>\n",
       "  </thead>\n",
       "  <tbody>\n",
       "    <tr>\n",
       "      <th>111</th>\n",
       "      <td>180000.0</td>\n",
       "      <td>7.0</td>\n",
       "      <td>774.0</td>\n",
       "      <td>7.0</td>\n",
       "      <td>2000.0</td>\n",
       "      <td>NaN</td>\n",
       "    </tr>\n",
       "    <tr>\n",
       "      <th>556</th>\n",
       "      <td>141000.0</td>\n",
       "      <td>5.0</td>\n",
       "      <td>1092.0</td>\n",
       "      <td>6.0</td>\n",
       "      <td>1957.0</td>\n",
       "      <td>69.0</td>\n",
       "    </tr>\n",
       "    <tr>\n",
       "      <th>640</th>\n",
       "      <td>274000.0</td>\n",
       "      <td>8.0</td>\n",
       "      <td>1518.0</td>\n",
       "      <td>6.0</td>\n",
       "      <td>2003.0</td>\n",
       "      <td>62.0</td>\n",
       "    </tr>\n",
       "    <tr>\n",
       "      <th>1260</th>\n",
       "      <td>181000.0</td>\n",
       "      <td>6.0</td>\n",
       "      <td>892.0</td>\n",
       "      <td>7.0</td>\n",
       "      <td>1999.0</td>\n",
       "      <td>NaN</td>\n",
       "    </tr>\n",
       "    <tr>\n",
       "      <th>247</th>\n",
       "      <td>140000.0</td>\n",
       "      <td>6.0</td>\n",
       "      <td>1375.0</td>\n",
       "      <td>5.0</td>\n",
       "      <td>1954.0</td>\n",
       "      <td>75.0</td>\n",
       "    </tr>\n",
       "    <tr>\n",
       "      <th>...</th>\n",
       "      <td>...</td>\n",
       "      <td>...</td>\n",
       "      <td>...</td>\n",
       "      <td>...</td>\n",
       "      <td>...</td>\n",
       "      <td>...</td>\n",
       "    </tr>\n",
       "    <tr>\n",
       "      <th>255</th>\n",
       "      <td>230000.0</td>\n",
       "      <td>7.0</td>\n",
       "      <td>1005.0</td>\n",
       "      <td>8.0</td>\n",
       "      <td>1999.0</td>\n",
       "      <td>66.0</td>\n",
       "    </tr>\n",
       "    <tr>\n",
       "      <th>1281</th>\n",
       "      <td>180000.0</td>\n",
       "      <td>7.0</td>\n",
       "      <td>1339.0</td>\n",
       "      <td>6.0</td>\n",
       "      <td>1990.0</td>\n",
       "      <td>50.0</td>\n",
       "    </tr>\n",
       "    <tr>\n",
       "      <th>534</th>\n",
       "      <td>178000.0</td>\n",
       "      <td>8.0</td>\n",
       "      <td>707.0</td>\n",
       "      <td>6.0</td>\n",
       "      <td>2004.0</td>\n",
       "      <td>74.0</td>\n",
       "    </tr>\n",
       "    <tr>\n",
       "      <th>943</th>\n",
       "      <td>143000.0</td>\n",
       "      <td>5.0</td>\n",
       "      <td>1632.0</td>\n",
       "      <td>8.0</td>\n",
       "      <td>1967.0</td>\n",
       "      <td>100.0</td>\n",
       "    </tr>\n",
       "    <tr>\n",
       "      <th>486</th>\n",
       "      <td>156000.0</td>\n",
       "      <td>5.0</td>\n",
       "      <td>1073.0</td>\n",
       "      <td>6.0</td>\n",
       "      <td>1965.0</td>\n",
       "      <td>79.0</td>\n",
       "    </tr>\n",
       "  </tbody>\n",
       "</table>\n",
       "<p>1168 rows × 6 columns</p>\n",
       "</div>"
      ],
      "text/plain": [
       "      SalePrice  OverallQual  1stFlrSF  TotRmAbvGrd  YearBuilt  LotFrontage\n",
       "111    180000.0          7.0     774.0          7.0     2000.0          NaN\n",
       "556    141000.0          5.0    1092.0          6.0     1957.0         69.0\n",
       "640    274000.0          8.0    1518.0          6.0     2003.0         62.0\n",
       "1260   181000.0          6.0     892.0          7.0     1999.0          NaN\n",
       "247    140000.0          6.0    1375.0          5.0     1954.0         75.0\n",
       "...         ...          ...       ...          ...        ...          ...\n",
       "255    230000.0          7.0    1005.0          8.0     1999.0         66.0\n",
       "1281   180000.0          7.0    1339.0          6.0     1990.0         50.0\n",
       "534    178000.0          8.0     707.0          6.0     2004.0         74.0\n",
       "943    143000.0          5.0    1632.0          8.0     1967.0        100.0\n",
       "486    156000.0          5.0    1073.0          6.0     1965.0         79.0\n",
       "\n",
       "[1168 rows x 6 columns]"
      ]
     },
     "execution_count": 447,
     "metadata": {},
     "output_type": "execute_result"
    }
   ],
   "source": [
    "datos_train"
   ]
  },
  {
   "cell_type": "code",
   "execution_count": 448,
   "metadata": {},
   "outputs": [
    {
     "data": {
      "text/html": [
       "<div>\n",
       "<style scoped>\n",
       "    .dataframe tbody tr th:only-of-type {\n",
       "        vertical-align: middle;\n",
       "    }\n",
       "\n",
       "    .dataframe tbody tr th {\n",
       "        vertical-align: top;\n",
       "    }\n",
       "\n",
       "    .dataframe thead th {\n",
       "        text-align: right;\n",
       "    }\n",
       "</style>\n",
       "<table border=\"1\" class=\"dataframe\">\n",
       "  <thead>\n",
       "    <tr style=\"text-align: right;\">\n",
       "      <th></th>\n",
       "      <th>SalePrice</th>\n",
       "      <th>OverallQual</th>\n",
       "      <th>1stFlrSF</th>\n",
       "      <th>TotRmAbvGrd</th>\n",
       "      <th>YearBuilt</th>\n",
       "      <th>LotFrontage</th>\n",
       "    </tr>\n",
       "  </thead>\n",
       "  <tbody>\n",
       "    <tr>\n",
       "      <th>954</th>\n",
       "      <td>127500.0</td>\n",
       "      <td>6.0</td>\n",
       "      <td>980.0</td>\n",
       "      <td>4.0</td>\n",
       "      <td>1975.0</td>\n",
       "      <td>35.0</td>\n",
       "    </tr>\n",
       "    <tr>\n",
       "      <th>1368</th>\n",
       "      <td>144000.0</td>\n",
       "      <td>6.0</td>\n",
       "      <td>848.0</td>\n",
       "      <td>4.0</td>\n",
       "      <td>2003.0</td>\n",
       "      <td>NaN</td>\n",
       "    </tr>\n",
       "    <tr>\n",
       "      <th>719</th>\n",
       "      <td>128500.0</td>\n",
       "      <td>5.0</td>\n",
       "      <td>971.0</td>\n",
       "      <td>5.0</td>\n",
       "      <td>1969.0</td>\n",
       "      <td>69.0</td>\n",
       "    </tr>\n",
       "    <tr>\n",
       "      <th>1362</th>\n",
       "      <td>104900.0</td>\n",
       "      <td>4.0</td>\n",
       "      <td>1281.0</td>\n",
       "      <td>7.0</td>\n",
       "      <td>1920.0</td>\n",
       "      <td>NaN</td>\n",
       "    </tr>\n",
       "    <tr>\n",
       "      <th>1033</th>\n",
       "      <td>230000.0</td>\n",
       "      <td>7.0</td>\n",
       "      <td>1654.0</td>\n",
       "      <td>6.0</td>\n",
       "      <td>2002.0</td>\n",
       "      <td>NaN</td>\n",
       "    </tr>\n",
       "    <tr>\n",
       "      <th>...</th>\n",
       "      <td>...</td>\n",
       "      <td>...</td>\n",
       "      <td>...</td>\n",
       "      <td>...</td>\n",
       "      <td>...</td>\n",
       "      <td>...</td>\n",
       "    </tr>\n",
       "    <tr>\n",
       "      <th>1370</th>\n",
       "      <td>105000.0</td>\n",
       "      <td>4.0</td>\n",
       "      <td>840.0</td>\n",
       "      <td>6.0</td>\n",
       "      <td>1920.0</td>\n",
       "      <td>90.0</td>\n",
       "    </tr>\n",
       "    <tr>\n",
       "      <th>396</th>\n",
       "      <td>123000.0</td>\n",
       "      <td>5.0</td>\n",
       "      <td>894.0</td>\n",
       "      <td>6.0</td>\n",
       "      <td>1972.0</td>\n",
       "      <td>60.0</td>\n",
       "    </tr>\n",
       "    <tr>\n",
       "      <th>289</th>\n",
       "      <td>153575.0</td>\n",
       "      <td>6.0</td>\n",
       "      <td>698.0</td>\n",
       "      <td>7.0</td>\n",
       "      <td>1915.0</td>\n",
       "      <td>60.0</td>\n",
       "    </tr>\n",
       "    <tr>\n",
       "      <th>583</th>\n",
       "      <td>325000.0</td>\n",
       "      <td>10.0</td>\n",
       "      <td>1521.0</td>\n",
       "      <td>9.0</td>\n",
       "      <td>1893.0</td>\n",
       "      <td>75.0</td>\n",
       "    </tr>\n",
       "    <tr>\n",
       "      <th>1385</th>\n",
       "      <td>125500.0</td>\n",
       "      <td>4.0</td>\n",
       "      <td>796.0</td>\n",
       "      <td>7.0</td>\n",
       "      <td>1922.0</td>\n",
       "      <td>40.0</td>\n",
       "    </tr>\n",
       "  </tbody>\n",
       "</table>\n",
       "<p>292 rows × 6 columns</p>\n",
       "</div>"
      ],
      "text/plain": [
       "      SalePrice  OverallQual  1stFlrSF  TotRmAbvGrd  YearBuilt  LotFrontage\n",
       "954    127500.0          6.0     980.0          4.0     1975.0         35.0\n",
       "1368   144000.0          6.0     848.0          4.0     2003.0          NaN\n",
       "719    128500.0          5.0     971.0          5.0     1969.0         69.0\n",
       "1362   104900.0          4.0    1281.0          7.0     1920.0          NaN\n",
       "1033   230000.0          7.0    1654.0          6.0     2002.0          NaN\n",
       "...         ...          ...       ...          ...        ...          ...\n",
       "1370   105000.0          4.0     840.0          6.0     1920.0         90.0\n",
       "396    123000.0          5.0     894.0          6.0     1972.0         60.0\n",
       "289    153575.0          6.0     698.0          7.0     1915.0         60.0\n",
       "583    325000.0         10.0    1521.0          9.0     1893.0         75.0\n",
       "1385   125500.0          4.0     796.0          7.0     1922.0         40.0\n",
       "\n",
       "[292 rows x 6 columns]"
      ]
     },
     "execution_count": 448,
     "metadata": {},
     "output_type": "execute_result"
    }
   ],
   "source": [
    "datos_test"
   ]
  },
  {
   "cell_type": "code",
   "execution_count": 449,
   "metadata": {},
   "outputs": [
    {
     "data": {
      "text/plain": [
       "(1168, 6)"
      ]
     },
     "execution_count": 449,
     "metadata": {},
     "output_type": "execute_result"
    }
   ],
   "source": [
    "datos_train.shape"
   ]
  },
  {
   "cell_type": "code",
   "execution_count": 450,
   "metadata": {},
   "outputs": [
    {
     "data": {
      "text/plain": [
       "(292, 6)"
      ]
     },
     "execution_count": 450,
     "metadata": {},
     "output_type": "execute_result"
    }
   ],
   "source": [
    "datos_test.shape"
   ]
  },
  {
   "cell_type": "code",
   "execution_count": 451,
   "metadata": {},
   "outputs": [
    {
     "data": {
      "text/html": [
       "<div>\n",
       "<style scoped>\n",
       "    .dataframe tbody tr th:only-of-type {\n",
       "        vertical-align: middle;\n",
       "    }\n",
       "\n",
       "    .dataframe tbody tr th {\n",
       "        vertical-align: top;\n",
       "    }\n",
       "\n",
       "    .dataframe thead th {\n",
       "        text-align: right;\n",
       "    }\n",
       "</style>\n",
       "<table border=\"1\" class=\"dataframe\">\n",
       "  <thead>\n",
       "    <tr style=\"text-align: right;\">\n",
       "      <th></th>\n",
       "      <th>SalePrice</th>\n",
       "      <th>OverallQual</th>\n",
       "      <th>1stFlrSF</th>\n",
       "      <th>TotRmAbvGrd</th>\n",
       "      <th>YearBuilt</th>\n",
       "      <th>LotFrontage</th>\n",
       "    </tr>\n",
       "  </thead>\n",
       "  <tbody>\n",
       "    <tr>\n",
       "      <th>111</th>\n",
       "      <td>180000.0</td>\n",
       "      <td>7.0</td>\n",
       "      <td>774.0</td>\n",
       "      <td>7.0</td>\n",
       "      <td>2000.0</td>\n",
       "      <td>NaN</td>\n",
       "    </tr>\n",
       "    <tr>\n",
       "      <th>556</th>\n",
       "      <td>141000.0</td>\n",
       "      <td>5.0</td>\n",
       "      <td>1092.0</td>\n",
       "      <td>6.0</td>\n",
       "      <td>1957.0</td>\n",
       "      <td>69.0</td>\n",
       "    </tr>\n",
       "  </tbody>\n",
       "</table>\n",
       "</div>"
      ],
      "text/plain": [
       "     SalePrice  OverallQual  1stFlrSF  TotRmAbvGrd  YearBuilt  LotFrontage\n",
       "111   180000.0          7.0     774.0          7.0     2000.0          NaN\n",
       "556   141000.0          5.0    1092.0          6.0     1957.0         69.0"
      ]
     },
     "execution_count": 451,
     "metadata": {},
     "output_type": "execute_result"
    }
   ],
   "source": [
    "datos_train.head(2)"
   ]
  },
  {
   "cell_type": "code",
   "execution_count": 452,
   "metadata": {},
   "outputs": [
    {
     "data": {
      "text/html": [
       "<div>\n",
       "<style scoped>\n",
       "    .dataframe tbody tr th:only-of-type {\n",
       "        vertical-align: middle;\n",
       "    }\n",
       "\n",
       "    .dataframe tbody tr th {\n",
       "        vertical-align: top;\n",
       "    }\n",
       "\n",
       "    .dataframe thead th {\n",
       "        text-align: right;\n",
       "    }\n",
       "</style>\n",
       "<table border=\"1\" class=\"dataframe\">\n",
       "  <thead>\n",
       "    <tr style=\"text-align: right;\">\n",
       "      <th></th>\n",
       "      <th>SalePrice</th>\n",
       "      <th>OverallQual</th>\n",
       "      <th>1stFlrSF</th>\n",
       "      <th>TotRmAbvGrd</th>\n",
       "      <th>YearBuilt</th>\n",
       "      <th>LotFrontage</th>\n",
       "    </tr>\n",
       "  </thead>\n",
       "  <tbody>\n",
       "    <tr>\n",
       "      <th>954</th>\n",
       "      <td>127500.0</td>\n",
       "      <td>6.0</td>\n",
       "      <td>980.0</td>\n",
       "      <td>4.0</td>\n",
       "      <td>1975.0</td>\n",
       "      <td>35.0</td>\n",
       "    </tr>\n",
       "    <tr>\n",
       "      <th>1368</th>\n",
       "      <td>144000.0</td>\n",
       "      <td>6.0</td>\n",
       "      <td>848.0</td>\n",
       "      <td>4.0</td>\n",
       "      <td>2003.0</td>\n",
       "      <td>NaN</td>\n",
       "    </tr>\n",
       "  </tbody>\n",
       "</table>\n",
       "</div>"
      ],
      "text/plain": [
       "      SalePrice  OverallQual  1stFlrSF  TotRmAbvGrd  YearBuilt  LotFrontage\n",
       "954    127500.0          6.0     980.0          4.0     1975.0         35.0\n",
       "1368   144000.0          6.0     848.0          4.0     2003.0          NaN"
      ]
     },
     "execution_count": 452,
     "metadata": {},
     "output_type": "execute_result"
    }
   ],
   "source": [
    "datos_test.head(2)"
   ]
  },
  {
   "cell_type": "code",
   "execution_count": 453,
   "metadata": {},
   "outputs": [
    {
     "data": {
      "text/plain": [
       "SalePrice      float64\n",
       "OverallQual    float64\n",
       "1stFlrSF       float64\n",
       "TotRmAbvGrd    float64\n",
       "YearBuilt      float64\n",
       "LotFrontage    float64\n",
       "dtype: object"
      ]
     },
     "execution_count": 453,
     "metadata": {},
     "output_type": "execute_result"
    }
   ],
   "source": [
    "datos_train.dtypes"
   ]
  },
  {
   "cell_type": "markdown",
   "metadata": {},
   "source": [
    "### 3. Analisis Exploratorio"
   ]
  },
  {
   "cell_type": "code",
   "execution_count": 454,
   "metadata": {},
   "outputs": [
    {
     "name": "stdout",
     "output_type": "stream",
     "text": [
      "\n",
      "    Media_Datos: 180921\n",
      "    Mediana_Datos: 163000\n",
      "    Moda_Datos: 140000\n",
      "\n"
     ]
    }
   ],
   "source": [
    "# Calculo de Media, Mediana y Moda\n",
    "media_datos = datos[\"SalePrice\"].mean()\n",
    "mediana_datos = datos[\"SalePrice\"].median()\n",
    "moda_datos = datos[\"SalePrice\"].mode()\n",
    "print(\"\"\"\n",
    "    Media_Datos: %d\n",
    "    Mediana_Datos: %d\n",
    "    Moda_Datos: %d\n",
    "\"\"\" % (media_datos,mediana_datos,moda_datos))"
   ]
  },
  {
   "cell_type": "code",
   "execution_count": 455,
   "metadata": {},
   "outputs": [
    {
     "name": "stdout",
     "output_type": "stream",
     "text": [
      "\n",
      "    Media_Train: 6\n",
      "    Mediana_Train: 6\n",
      "    Moda_Train: 5\n",
      "\n"
     ]
    }
   ],
   "source": [
    "media_datos = datos[\"OverallQual\"].mean()\n",
    "mediana_datos = datos[\"OverallQual\"].median()\n",
    "moda_datos = datos[\"OverallQual\"].mode()\n",
    "print(\"\"\"\n",
    "    Media_Train: %d\n",
    "    Mediana_Train: %d\n",
    "    Moda_Train: %d\n",
    "\"\"\" % (media_datos,mediana_datos,moda_datos))"
   ]
  },
  {
   "cell_type": "code",
   "execution_count": 456,
   "metadata": {},
   "outputs": [
    {
     "data": {
      "text/plain": [
       "SalePrice      34900.0\n",
       "OverallQual        1.0\n",
       "1stFlrSF         334.0\n",
       "TotRmAbvGrd        2.0\n",
       "YearBuilt       1872.0\n",
       "LotFrontage       21.0\n",
       "dtype: float64"
      ]
     },
     "execution_count": 456,
     "metadata": {},
     "output_type": "execute_result"
    }
   ],
   "source": [
    "# Calculo valor Maximo y Minimo\n",
    "np.amin(datos)"
   ]
  },
  {
   "cell_type": "code",
   "execution_count": 457,
   "metadata": {},
   "outputs": [
    {
     "data": {
      "text/plain": [
       "SalePrice      755000.0\n",
       "OverallQual        10.0\n",
       "1stFlrSF         4692.0\n",
       "TotRmAbvGrd        14.0\n",
       "YearBuilt        2010.0\n",
       "LotFrontage       313.0\n",
       "dtype: float64"
      ]
     },
     "execution_count": 457,
     "metadata": {},
     "output_type": "execute_result"
    }
   ],
   "source": [
    "np.amax(datos)"
   ]
  },
  {
   "cell_type": "code",
   "execution_count": 458,
   "metadata": {},
   "outputs": [
    {
     "name": "stdout",
     "output_type": "stream",
     "text": [
      "\n",
      "    Desviacion_Datos: 79415\n",
      "    Variacion_Datos: 6306788585\n",
      "\n"
     ]
    }
   ],
   "source": [
    "#Calculo de dispersión: desviacion, varianza\n",
    "std_datos = datos[\"SalePrice\"].std(ddof=0)\n",
    "var_datos = datos[\"SalePrice\"].var(ddof=0)\n",
    "print(\"\"\"\n",
    "    Desviacion_Datos: %d\n",
    "    Variacion_Datos: %d\n",
    "\"\"\" % (std_datos,var_datos))"
   ]
  },
  {
   "cell_type": "code",
   "execution_count": 459,
   "metadata": {},
   "outputs": [
    {
     "name": "stdout",
     "output_type": "stream",
     "text": [
      "\n",
      "    Desviacion_Datos: 1\n",
      "    Variacion_Datos: 1\n",
      "\n"
     ]
    }
   ],
   "source": [
    "std_datos = datos[\"OverallQual\"].std(ddof=0)\n",
    "var_datos = datos[\"OverallQual\"].var(ddof=0)\n",
    "print(\"\"\"\n",
    "    Desviacion_Datos: %d\n",
    "    Variacion_Datos: %d\n",
    "\"\"\" % (std_datos,var_datos))"
   ]
  },
  {
   "cell_type": "code",
   "execution_count": 460,
   "metadata": {},
   "outputs": [
    {
     "name": "stdout",
     "output_type": "stream",
     "text": [
      "\n",
      "    Rango_Datos: 720100\n",
      "\n"
     ]
    }
   ],
   "source": [
    "#Calculo de Rango\n",
    "rango_datos = datos[\"SalePrice\"].max() - datos[\"SalePrice\"].min()\n",
    "print(\"\"\"\n",
    "    Rango_Datos: %d\n",
    "\"\"\" % (rango_datos))"
   ]
  },
  {
   "cell_type": "code",
   "execution_count": 461,
   "metadata": {},
   "outputs": [
    {
     "name": "stdout",
     "output_type": "stream",
     "text": [
      "\n",
      "    Rango_Datos: -34890\n",
      "\n"
     ]
    }
   ],
   "source": [
    "rango_datos = datos[\"OverallQual\"].max() - datos[\"SalePrice\"].min()\n",
    "print(\"\"\"\n",
    "    Rango_Datos: %d\n",
    "\"\"\" % (rango_datos))"
   ]
  },
  {
   "cell_type": "markdown",
   "metadata": {},
   "source": [
    "### 4. Hitograma"
   ]
  },
  {
   "cell_type": "code",
   "execution_count": 462,
   "metadata": {},
   "outputs": [
    {
     "data": {
      "text/html": [
       "<div>\n",
       "<style scoped>\n",
       "    .dataframe tbody tr th:only-of-type {\n",
       "        vertical-align: middle;\n",
       "    }\n",
       "\n",
       "    .dataframe tbody tr th {\n",
       "        vertical-align: top;\n",
       "    }\n",
       "\n",
       "    .dataframe thead th {\n",
       "        text-align: right;\n",
       "    }\n",
       "</style>\n",
       "<table border=\"1\" class=\"dataframe\">\n",
       "  <thead>\n",
       "    <tr style=\"text-align: right;\">\n",
       "      <th></th>\n",
       "      <th>SalePrice</th>\n",
       "      <th>OverallQual</th>\n",
       "      <th>1stFlrSF</th>\n",
       "      <th>TotRmAbvGrd</th>\n",
       "      <th>YearBuilt</th>\n",
       "      <th>LotFrontage</th>\n",
       "    </tr>\n",
       "  </thead>\n",
       "  <tbody>\n",
       "    <tr>\n",
       "      <th>0</th>\n",
       "      <td>208500.0</td>\n",
       "      <td>7.0</td>\n",
       "      <td>856.0</td>\n",
       "      <td>8.0</td>\n",
       "      <td>2003.0</td>\n",
       "      <td>65.0</td>\n",
       "    </tr>\n",
       "    <tr>\n",
       "      <th>1</th>\n",
       "      <td>181500.0</td>\n",
       "      <td>6.0</td>\n",
       "      <td>1262.0</td>\n",
       "      <td>6.0</td>\n",
       "      <td>1976.0</td>\n",
       "      <td>80.0</td>\n",
       "    </tr>\n",
       "    <tr>\n",
       "      <th>2</th>\n",
       "      <td>223500.0</td>\n",
       "      <td>7.0</td>\n",
       "      <td>920.0</td>\n",
       "      <td>6.0</td>\n",
       "      <td>2001.0</td>\n",
       "      <td>68.0</td>\n",
       "    </tr>\n",
       "    <tr>\n",
       "      <th>3</th>\n",
       "      <td>140000.0</td>\n",
       "      <td>7.0</td>\n",
       "      <td>961.0</td>\n",
       "      <td>7.0</td>\n",
       "      <td>1915.0</td>\n",
       "      <td>60.0</td>\n",
       "    </tr>\n",
       "    <tr>\n",
       "      <th>4</th>\n",
       "      <td>250000.0</td>\n",
       "      <td>8.0</td>\n",
       "      <td>1145.0</td>\n",
       "      <td>9.0</td>\n",
       "      <td>2000.0</td>\n",
       "      <td>84.0</td>\n",
       "    </tr>\n",
       "  </tbody>\n",
       "</table>\n",
       "</div>"
      ],
      "text/plain": [
       "   SalePrice  OverallQual  1stFlrSF  TotRmAbvGrd  YearBuilt  LotFrontage\n",
       "0   208500.0          7.0     856.0          8.0     2003.0         65.0\n",
       "1   181500.0          6.0    1262.0          6.0     1976.0         80.0\n",
       "2   223500.0          7.0     920.0          6.0     2001.0         68.0\n",
       "3   140000.0          7.0     961.0          7.0     1915.0         60.0\n",
       "4   250000.0          8.0    1145.0          9.0     2000.0         84.0"
      ]
     },
     "execution_count": 462,
     "metadata": {},
     "output_type": "execute_result"
    }
   ],
   "source": [
    "datos.head()"
   ]
  },
  {
   "cell_type": "code",
   "execution_count": 463,
   "metadata": {},
   "outputs": [
    {
     "data": {
      "text/plain": [
       "SalePrice      float64\n",
       "OverallQual    float64\n",
       "1stFlrSF       float64\n",
       "TotRmAbvGrd    float64\n",
       "YearBuilt      float64\n",
       "LotFrontage    float64\n",
       "dtype: object"
      ]
     },
     "execution_count": 463,
     "metadata": {},
     "output_type": "execute_result"
    }
   ],
   "source": [
    "datos.dtypes"
   ]
  },
  {
   "cell_type": "code",
   "execution_count": 464,
   "metadata": {},
   "outputs": [],
   "source": [
    "datos['SalePrice']=datos['SalePrice'].astype('int')\n",
    "datos['OverallQual']=datos['OverallQual'].astype('int')"
   ]
  },
  {
   "cell_type": "code",
   "execution_count": 465,
   "metadata": {},
   "outputs": [
    {
     "data": {
      "text/html": [
       "<div>\n",
       "<style scoped>\n",
       "    .dataframe tbody tr th:only-of-type {\n",
       "        vertical-align: middle;\n",
       "    }\n",
       "\n",
       "    .dataframe tbody tr th {\n",
       "        vertical-align: top;\n",
       "    }\n",
       "\n",
       "    .dataframe thead th {\n",
       "        text-align: right;\n",
       "    }\n",
       "</style>\n",
       "<table border=\"1\" class=\"dataframe\">\n",
       "  <thead>\n",
       "    <tr style=\"text-align: right;\">\n",
       "      <th></th>\n",
       "      <th>SalePrice</th>\n",
       "      <th>OverallQual</th>\n",
       "      <th>1stFlrSF</th>\n",
       "      <th>TotRmAbvGrd</th>\n",
       "      <th>YearBuilt</th>\n",
       "      <th>LotFrontage</th>\n",
       "    </tr>\n",
       "  </thead>\n",
       "  <tbody>\n",
       "    <tr>\n",
       "      <th>0</th>\n",
       "      <td>208500</td>\n",
       "      <td>7</td>\n",
       "      <td>856.0</td>\n",
       "      <td>8.0</td>\n",
       "      <td>2003.0</td>\n",
       "      <td>65.0</td>\n",
       "    </tr>\n",
       "    <tr>\n",
       "      <th>1</th>\n",
       "      <td>181500</td>\n",
       "      <td>6</td>\n",
       "      <td>1262.0</td>\n",
       "      <td>6.0</td>\n",
       "      <td>1976.0</td>\n",
       "      <td>80.0</td>\n",
       "    </tr>\n",
       "    <tr>\n",
       "      <th>2</th>\n",
       "      <td>223500</td>\n",
       "      <td>7</td>\n",
       "      <td>920.0</td>\n",
       "      <td>6.0</td>\n",
       "      <td>2001.0</td>\n",
       "      <td>68.0</td>\n",
       "    </tr>\n",
       "    <tr>\n",
       "      <th>3</th>\n",
       "      <td>140000</td>\n",
       "      <td>7</td>\n",
       "      <td>961.0</td>\n",
       "      <td>7.0</td>\n",
       "      <td>1915.0</td>\n",
       "      <td>60.0</td>\n",
       "    </tr>\n",
       "    <tr>\n",
       "      <th>4</th>\n",
       "      <td>250000</td>\n",
       "      <td>8</td>\n",
       "      <td>1145.0</td>\n",
       "      <td>9.0</td>\n",
       "      <td>2000.0</td>\n",
       "      <td>84.0</td>\n",
       "    </tr>\n",
       "  </tbody>\n",
       "</table>\n",
       "</div>"
      ],
      "text/plain": [
       "   SalePrice  OverallQual  1stFlrSF  TotRmAbvGrd  YearBuilt  LotFrontage\n",
       "0     208500            7     856.0          8.0     2003.0         65.0\n",
       "1     181500            6    1262.0          6.0     1976.0         80.0\n",
       "2     223500            7     920.0          6.0     2001.0         68.0\n",
       "3     140000            7     961.0          7.0     1915.0         60.0\n",
       "4     250000            8    1145.0          9.0     2000.0         84.0"
      ]
     },
     "execution_count": 465,
     "metadata": {},
     "output_type": "execute_result"
    }
   ],
   "source": [
    "datos.dtypes\n",
    "datos.head()"
   ]
  },
  {
   "cell_type": "code",
   "execution_count": 466,
   "metadata": {},
   "outputs": [
    {
     "data": {
      "image/png": "[encoded data removed]",
      "text/plain": [
       "<Figure size 360x360 with 1 Axes>"
      ]
     },
     "metadata": {
      "needs_background": "light"
     },
     "output_type": "display_data"
    }
   ],
   "source": [
    "import matplotlib.pyplot as plot\n",
    "import seaborn as sb\n",
    "from scipy.stats import norm\n",
    "#ax = sb.distplot(datos_train, color='#F2AB6D', kde=False)\n",
    "ax = sb.displot(data=datos, x=\"SalePrice\", kde=True)\n",
    "plot.ylabel('Frecuencia')\n",
    "plot.xlabel('SalePrice')\n",
    "plot.title('Histograma de SalePrice')\n",
    "plot.show()"
   ]
  },
  {
   "cell_type": "code",
   "execution_count": 467,
   "metadata": {},
   "outputs": [
    {
     "data": {
      "image/png": "[encoded data removed]",
      "text/plain": [
       "<Figure size 360x360 with 1 Axes>"
      ]
     },
     "metadata": {
      "needs_background": "light"
     },
     "output_type": "display_data"
    }
   ],
   "source": [
    "ax = sb.displot(data=datos, x=\"OverallQual\", kde=True)\n",
    "plot.ylabel('Frecuencia')\n",
    "plot.xlabel('OverallQual')\n",
    "plot.title('Histograma de OverallQual')\n",
    "plot.show()"
   ]
  },
  {
   "cell_type": "code",
   "execution_count": 468,
   "metadata": {},
   "outputs": [
    {
     "data": {
      "image/png": "[encoded data removed]",
      "text/plain": [
       "<Figure size 360x360 with 1 Axes>"
      ]
     },
     "metadata": {
      "needs_background": "light"
     },
     "output_type": "display_data"
    }
   ],
   "source": [
    "ax = sb.displot(data=datos, x=\"1stFlrSF\", kde=True)\n",
    "plot.ylabel('Frecuencia')\n",
    "plot.xlabel('1stFlrSF')\n",
    "plot.title('Histograma de 1stFlrSF')\n",
    "plot.show()"
   ]
  },
  {
   "cell_type": "code",
   "execution_count": 469,
   "metadata": {},
   "outputs": [
    {
     "data": {
      "image/png": "[encoded data removed]",
      "text/plain": [
       "<Figure size 360x360 with 1 Axes>"
      ]
     },
     "metadata": {
      "needs_background": "light"
     },
     "output_type": "display_data"
    }
   ],
   "source": [
    "ax = sb.displot(data=datos, x=\"TotRmAbvGrd\", kde=True)\n",
    "plot.ylabel('Frecuencia')\n",
    "plot.xlabel('TotRmAbvGrd')\n",
    "plot.title('Histograma de TotRmAbvGrd')\n",
    "plot.show()"
   ]
  },
  {
   "cell_type": "code",
   "execution_count": 470,
   "metadata": {},
   "outputs": [
    {
     "data": {
      "image/png": "[encoded data removed]",
      "text/plain": [
       "<Figure size 360x360 with 1 Axes>"
      ]
     },
     "metadata": {
      "needs_background": "light"
     },
     "output_type": "display_data"
    }
   ],
   "source": [
    "ax = sb.displot(data=datos, x=\"LotFrontage\", kde=True)\n",
    "plot.ylabel('Frecuencia')\n",
    "plot.xlabel('LotFrontage')\n",
    "plot.title('Histograma de LotFrontage')\n",
    "plot.show()"
   ]
  },
  {
   "cell_type": "code",
   "execution_count": 471,
   "metadata": {},
   "outputs": [
    {
     "data": {
      "image/png": "[encoded data removed]",
      "text/plain": [
       "<Figure size 360x360 with 1 Axes>"
      ]
     },
     "metadata": {
      "needs_background": "light"
     },
     "output_type": "display_data"
    }
   ],
   "source": [
    "ax = sb.displot(data=datos, x=\"YearBuilt\", kde=True)\n",
    "plot.ylabel('Frecuencia')\n",
    "plot.xlabel('YearBuilt')\n",
    "plot.title('Histograma de YearBuilt')\n",
    "plot.show()"
   ]
  },
  {
   "cell_type": "markdown",
   "metadata": {},
   "source": [
    "### 5. Para la variable independiente\n",
    "##### 5.1 Correlación entre x y y"
   ]
  },
  {
   "cell_type": "code",
   "execution_count": 472,
   "metadata": {},
   "outputs": [
    {
     "data": {
      "text/html": [
       "<div>\n",
       "<style scoped>\n",
       "    .dataframe tbody tr th:only-of-type {\n",
       "        vertical-align: middle;\n",
       "    }\n",
       "\n",
       "    .dataframe tbody tr th {\n",
       "        vertical-align: top;\n",
       "    }\n",
       "\n",
       "    .dataframe thead th {\n",
       "        text-align: right;\n",
       "    }\n",
       "</style>\n",
       "<table border=\"1\" class=\"dataframe\">\n",
       "  <thead>\n",
       "    <tr style=\"text-align: right;\">\n",
       "      <th></th>\n",
       "      <th>SalePrice</th>\n",
       "      <th>OverallQual</th>\n",
       "      <th>1stFlrSF</th>\n",
       "      <th>TotRmAbvGrd</th>\n",
       "      <th>YearBuilt</th>\n",
       "      <th>LotFrontage</th>\n",
       "    </tr>\n",
       "  </thead>\n",
       "  <tbody>\n",
       "    <tr>\n",
       "      <th>SalePrice</th>\n",
       "      <td>1.000000</td>\n",
       "      <td>0.790982</td>\n",
       "      <td>0.605852</td>\n",
       "      <td>0.533723</td>\n",
       "      <td>0.522897</td>\n",
       "      <td>0.351799</td>\n",
       "    </tr>\n",
       "    <tr>\n",
       "      <th>OverallQual</th>\n",
       "      <td>0.790982</td>\n",
       "      <td>1.000000</td>\n",
       "      <td>0.476224</td>\n",
       "      <td>0.427452</td>\n",
       "      <td>0.572323</td>\n",
       "      <td>0.251646</td>\n",
       "    </tr>\n",
       "    <tr>\n",
       "      <th>1stFlrSF</th>\n",
       "      <td>0.605852</td>\n",
       "      <td>0.476224</td>\n",
       "      <td>1.000000</td>\n",
       "      <td>0.409516</td>\n",
       "      <td>0.281986</td>\n",
       "      <td>0.457181</td>\n",
       "    </tr>\n",
       "    <tr>\n",
       "      <th>TotRmAbvGrd</th>\n",
       "      <td>0.533723</td>\n",
       "      <td>0.427452</td>\n",
       "      <td>0.409516</td>\n",
       "      <td>1.000000</td>\n",
       "      <td>0.095589</td>\n",
       "      <td>0.352096</td>\n",
       "    </tr>\n",
       "    <tr>\n",
       "      <th>YearBuilt</th>\n",
       "      <td>0.522897</td>\n",
       "      <td>0.572323</td>\n",
       "      <td>0.281986</td>\n",
       "      <td>0.095589</td>\n",
       "      <td>1.000000</td>\n",
       "      <td>0.123349</td>\n",
       "    </tr>\n",
       "    <tr>\n",
       "      <th>LotFrontage</th>\n",
       "      <td>0.351799</td>\n",
       "      <td>0.251646</td>\n",
       "      <td>0.457181</td>\n",
       "      <td>0.352096</td>\n",
       "      <td>0.123349</td>\n",
       "      <td>1.000000</td>\n",
       "    </tr>\n",
       "  </tbody>\n",
       "</table>\n",
       "</div>"
      ],
      "text/plain": [
       "             SalePrice  OverallQual  1stFlrSF  TotRmAbvGrd  YearBuilt  \\\n",
       "SalePrice     1.000000     0.790982  0.605852     0.533723   0.522897   \n",
       "OverallQual   0.790982     1.000000  0.476224     0.427452   0.572323   \n",
       "1stFlrSF      0.605852     0.476224  1.000000     0.409516   0.281986   \n",
       "TotRmAbvGrd   0.533723     0.427452  0.409516     1.000000   0.095589   \n",
       "YearBuilt     0.522897     0.572323  0.281986     0.095589   1.000000   \n",
       "LotFrontage   0.351799     0.251646  0.457181     0.352096   0.123349   \n",
       "\n",
       "             LotFrontage  \n",
       "SalePrice       0.351799  \n",
       "OverallQual     0.251646  \n",
       "1stFlrSF        0.457181  \n",
       "TotRmAbvGrd     0.352096  \n",
       "YearBuilt       0.123349  \n",
       "LotFrontage     1.000000  "
      ]
     },
     "execution_count": 472,
     "metadata": {},
     "output_type": "execute_result"
    }
   ],
   "source": [
    "datos.corr(method=\"pearson\")"
   ]
  },
  {
   "cell_type": "code",
   "execution_count": 473,
   "metadata": {},
   "outputs": [
    {
     "data": {
      "text/html": [
       "<div>\n",
       "<style scoped>\n",
       "    .dataframe tbody tr th:only-of-type {\n",
       "        vertical-align: middle;\n",
       "    }\n",
       "\n",
       "    .dataframe tbody tr th {\n",
       "        vertical-align: top;\n",
       "    }\n",
       "\n",
       "    .dataframe thead th {\n",
       "        text-align: right;\n",
       "    }\n",
       "</style>\n",
       "<table border=\"1\" class=\"dataframe\">\n",
       "  <thead>\n",
       "    <tr style=\"text-align: right;\">\n",
       "      <th></th>\n",
       "      <th>SalePrice</th>\n",
       "      <th>OverallQual</th>\n",
       "      <th>1stFlrSF</th>\n",
       "      <th>TotRmAbvGrd</th>\n",
       "      <th>YearBuilt</th>\n",
       "      <th>LotFrontage</th>\n",
       "    </tr>\n",
       "  </thead>\n",
       "  <tbody>\n",
       "    <tr>\n",
       "      <th>SalePrice</th>\n",
       "      <td>1.000000</td>\n",
       "      <td>0.790982</td>\n",
       "      <td>0.605852</td>\n",
       "      <td>0.533723</td>\n",
       "      <td>0.522897</td>\n",
       "      <td>0.351799</td>\n",
       "    </tr>\n",
       "    <tr>\n",
       "      <th>OverallQual</th>\n",
       "      <td>0.790982</td>\n",
       "      <td>1.000000</td>\n",
       "      <td>0.476224</td>\n",
       "      <td>0.427452</td>\n",
       "      <td>0.572323</td>\n",
       "      <td>0.251646</td>\n",
       "    </tr>\n",
       "    <tr>\n",
       "      <th>1stFlrSF</th>\n",
       "      <td>0.605852</td>\n",
       "      <td>0.476224</td>\n",
       "      <td>1.000000</td>\n",
       "      <td>0.409516</td>\n",
       "      <td>0.281986</td>\n",
       "      <td>0.457181</td>\n",
       "    </tr>\n",
       "    <tr>\n",
       "      <th>TotRmAbvGrd</th>\n",
       "      <td>0.533723</td>\n",
       "      <td>0.427452</td>\n",
       "      <td>0.409516</td>\n",
       "      <td>1.000000</td>\n",
       "      <td>0.095589</td>\n",
       "      <td>0.352096</td>\n",
       "    </tr>\n",
       "    <tr>\n",
       "      <th>YearBuilt</th>\n",
       "      <td>0.522897</td>\n",
       "      <td>0.572323</td>\n",
       "      <td>0.281986</td>\n",
       "      <td>0.095589</td>\n",
       "      <td>1.000000</td>\n",
       "      <td>0.123349</td>\n",
       "    </tr>\n",
       "    <tr>\n",
       "      <th>LotFrontage</th>\n",
       "      <td>0.351799</td>\n",
       "      <td>0.251646</td>\n",
       "      <td>0.457181</td>\n",
       "      <td>0.352096</td>\n",
       "      <td>0.123349</td>\n",
       "      <td>1.000000</td>\n",
       "    </tr>\n",
       "  </tbody>\n",
       "</table>\n",
       "</div>"
      ],
      "text/plain": [
       "             SalePrice  OverallQual  1stFlrSF  TotRmAbvGrd  YearBuilt  \\\n",
       "SalePrice     1.000000     0.790982  0.605852     0.533723   0.522897   \n",
       "OverallQual   0.790982     1.000000  0.476224     0.427452   0.572323   \n",
       "1stFlrSF      0.605852     0.476224  1.000000     0.409516   0.281986   \n",
       "TotRmAbvGrd   0.533723     0.427452  0.409516     1.000000   0.095589   \n",
       "YearBuilt     0.522897     0.572323  0.281986     0.095589   1.000000   \n",
       "LotFrontage   0.351799     0.251646  0.457181     0.352096   0.123349   \n",
       "\n",
       "             LotFrontage  \n",
       "SalePrice       0.351799  \n",
       "OverallQual     0.251646  \n",
       "1stFlrSF        0.457181  \n",
       "TotRmAbvGrd     0.352096  \n",
       "YearBuilt       0.123349  \n",
       "LotFrontage     1.000000  "
      ]
     },
     "execution_count": 473,
     "metadata": {},
     "output_type": "execute_result"
    }
   ],
   "source": [
    "datos.corr()"
   ]
  },
  {
   "cell_type": "code",
   "execution_count": 474,
   "metadata": {},
   "outputs": [
    {
     "data": {
      "text/plain": [
       "<matplotlib.image.AxesImage at 0x1dd824373d0>"
      ]
     },
     "execution_count": 474,
     "metadata": {},
     "output_type": "execute_result"
    },
    {
     "data": {
      "image/png": "[encoded data removed]",
      "text/plain": [
       "<Figure size 288x288 with 1 Axes>"
      ]
     },
     "metadata": {
      "needs_background": "light"
     },
     "output_type": "display_data"
    }
   ],
   "source": [
    "plot.matshow(datos.corr())"
   ]
  },
  {
   "cell_type": "markdown",
   "metadata": {},
   "source": [
    "##### 5.2 Grafica de Distribución"
   ]
  },
  {
   "cell_type": "code",
   "execution_count": 475,
   "metadata": {},
   "outputs": [
    {
     "name": "stdout",
     "output_type": "stream",
     "text": [
      "0.7909816005838048\n"
     ]
    }
   ],
   "source": [
    "corr_OverallQual = datos[\"SalePrice\"].corr(datos['OverallQual'], method='pearson')\n",
    "print(corr_OverallQual)"
   ]
  },
  {
   "cell_type": "code",
   "execution_count": 476,
   "metadata": {},
   "outputs": [
    {
     "data": {
      "image/png": "[encoded data removed]",
      "text/plain": [
       "<Figure size 432x288 with 1 Axes>"
      ]
     },
     "metadata": {
      "needs_background": "light"
     },
     "output_type": "display_data"
    }
   ],
   "source": [
    "plot.scatter(datos[\"OverallQual\"],datos[\"SalePrice\"], alpha= 0.8)\n",
    "plot.ylabel('SalePrice')\n",
    "plot.xlabel('OverallQual')\n",
    "plot.title('Dispersión de OverallQual vrs SalePrice')\n",
    "plot.show()"
   ]
  },
  {
   "cell_type": "code",
   "execution_count": 477,
   "metadata": {},
   "outputs": [
    {
     "data": {
      "image/png": "[encoded data removed]",
      "text/plain": [
       "<Figure size 432x288 with 1 Axes>"
      ]
     },
     "metadata": {
      "needs_background": "light"
     },
     "output_type": "display_data"
    }
   ],
   "source": [
    "plot.scatter(datos[\"1stFlrSF\"],datos[\"SalePrice\"])\n",
    "plot.ylabel('SalePrice')\n",
    "plot.xlabel('1stFlrSF')\n",
    "plot.title('Dispersión de 1stFlrSF vrs SalePrice')\n",
    "plot.show()"
   ]
  },
  {
   "cell_type": "code",
   "execution_count": 478,
   "metadata": {},
   "outputs": [
    {
     "data": {
      "image/png": "[encoded data removed]",
      "text/plain": [
       "<Figure size 432x288 with 1 Axes>"
      ]
     },
     "metadata": {
      "needs_background": "light"
     },
     "output_type": "display_data"
    }
   ],
   "source": [
    "plot.scatter(datos[\"TotRmAbvGrd\"],datos[\"SalePrice\"])\n",
    "plot.ylabel('SalePrice')\n",
    "plot.xlabel('TotRmAbvGrd')\n",
    "plot.title('Dispersión de TotRmAbvGrd vrs SalePrice')\n",
    "plot.show()"
   ]
  },
  {
   "cell_type": "code",
   "execution_count": 479,
   "metadata": {},
   "outputs": [
    {
     "data": {
      "image/png": "[encoded data removed]",
      "text/plain": [
       "<Figure size 432x288 with 1 Axes>"
      ]
     },
     "metadata": {
      "needs_background": "light"
     },
     "output_type": "display_data"
    }
   ],
   "source": [
    "plot.scatter(datos[\"YearBuilt\"],datos[\"SalePrice\"])\n",
    "plot.ylabel('SalePrice')\n",
    "plot.xlabel('YearBuilt')\n",
    "plot.title('Dispersión de YearBuilt vrs SalePrice')\n",
    "plot.show()"
   ]
  },
  {
   "cell_type": "code",
   "execution_count": 480,
   "metadata": {},
   "outputs": [
    {
     "data": {
      "image/png": "[encoded data removed]",
      "text/plain": [
       "<Figure size 432x288 with 1 Axes>"
      ]
     },
     "metadata": {
      "needs_background": "light"
     },
     "output_type": "display_data"
    }
   ],
   "source": [
    "plot.scatter(datos[\"LotFrontage\"],datos[\"SalePrice\"])\n",
    "plot.ylabel('SalePrice')\n",
    "plot.xlabel('LotFrontage')\n",
    "plot.title('Dispersión de LotFrontage vrs SalePrice')\n",
    "plot.show()"
   ]
  },
  {
   "cell_type": "markdown",
   "metadata": {},
   "source": [
    "##### 5.3 Eligir las variables\n",
    "Las variables seleccionadas son 1stFlrSF y YearBuilt por su correlación y la distribución positiva"
   ]
  },
  {
   "cell_type": "code",
   "execution_count": 481,
   "metadata": {},
   "outputs": [],
   "source": [
    "x = datos['1stFlrSF'].values.reshape(-1,1)\n",
    "y = datos['SalePrice'].values.reshape(-1,1)"
   ]
  },
  {
   "cell_type": "markdown",
   "metadata": {},
   "source": [
    "### 6. Funcion de entrenamieonto de regresion lineal \n",
    "##### Separación de datos"
   ]
  },
  {
   "cell_type": "code",
   "execution_count": 482,
   "metadata": {},
   "outputs": [],
   "source": [
    "datos_train, datos_test,datos_train_SP, datos_test_SP  = train_test_split(x,y, test_size = 0.20,shuffle=True,random_state=123)"
   ]
  },
  {
   "cell_type": "code",
   "execution_count": 483,
   "metadata": {},
   "outputs": [
    {
     "data": {
      "text/plain": [
       "LinearRegression()"
      ]
     },
     "execution_count": 483,
     "metadata": {},
     "output_type": "execute_result"
    }
   ],
   "source": [
    "from sklearn.linear_model import LinearRegression\n",
    "\n",
    "lm_1 = LinearRegression()\n",
    "lm_1.fit(datos_train,datos_train_SP)"
   ]
  },
  {
   "cell_type": "code",
   "execution_count": 484,
   "metadata": {},
   "outputs": [
    {
     "data": {
      "text/plain": [
       "array([124.63473898])"
      ]
     },
     "execution_count": 484,
     "metadata": {},
     "output_type": "execute_result"
    }
   ],
   "source": [
    "B1=lm_1.coef_\n",
    "B1=np.array([124.63473898])\n",
    "B1"
   ]
  },
  {
   "cell_type": "code",
   "execution_count": 485,
   "metadata": {},
   "outputs": [
    {
     "data": {
      "text/plain": [
       "array([35077.7487892])"
      ]
     },
     "execution_count": 485,
     "metadata": {},
     "output_type": "execute_result"
    }
   ],
   "source": [
    "B0=lm_1.intercept_\n",
    "B0=np.array([35077.7487892])\n",
    "B0"
   ]
  },
  {
   "cell_type": "markdown",
   "metadata": {},
   "source": [
    "### 7. Creación de funcion"
   ]
  },
  {
   "cell_type": "code",
   "execution_count": 486,
   "metadata": {},
   "outputs": [
    {
     "name": "stdout",
     "output_type": "stream",
     "text": [
      "1460\n",
      "1460\n"
     ]
    },
    {
     "data": {
      "text/plain": [
       "(array([[1.],\n",
       "        [1.],\n",
       "        [1.],\n",
       "        ...,\n",
       "        [1.],\n",
       "        [1.],\n",
       "        [1.]]),\n",
       " array([[ 856.],\n",
       "        [1262.],\n",
       "        [ 920.],\n",
       "        ...,\n",
       "        [1188.],\n",
       "        [1078.],\n",
       "        [1256.]]))"
      ]
     },
     "execution_count": 486,
     "metadata": {},
     "output_type": "execute_result"
    }
   ],
   "source": [
    "tamaño = len(x)\n",
    "x1 = np.ones(tamaño).reshape(-1, 1)\n",
    "print(len(x1))\n",
    "print(len(x))\n",
    "x1,x"
   ]
  },
  {
   "cell_type": "code",
   "execution_count": 487,
   "metadata": {},
   "outputs": [
    {
     "data": {
      "text/plain": [
       "array([[8.560e+02, 1.000e+00],\n",
       "       [1.262e+03, 1.000e+00],\n",
       "       [9.200e+02, 1.000e+00],\n",
       "       ...,\n",
       "       [1.188e+03, 1.000e+00],\n",
       "       [1.078e+03, 1.000e+00],\n",
       "       [1.256e+03, 1.000e+00]])"
      ]
     },
     "execution_count": 487,
     "metadata": {},
     "output_type": "execute_result"
    }
   ],
   "source": [
    "matriz = np.concatenate((x, x1),axis=1)\n",
    "matriz"
   ]
  },
  {
   "cell_type": "code",
   "execution_count": 488,
   "metadata": {},
   "outputs": [
    {
     "data": {
      "text/plain": [
       "array([35077.7487892 ,   124.63473898])"
      ]
     },
     "execution_count": 488,
     "metadata": {},
     "output_type": "execute_result"
    }
   ],
   "source": [
    "valoresB=np.concatenate((B0, B1))\n",
    "valoresB"
   ]
  },
  {
   "cell_type": "code",
   "execution_count": 489,
   "metadata": {},
   "outputs": [
    {
     "data": {
      "text/plain": [
       "array([30026677.59829418, 44268243.60670938, 32271653.52080298, ...,\n",
       "       41672490.19630858, 37813937.82949658, 44057777.11397418])"
      ]
     },
     "execution_count": 489,
     "metadata": {},
     "output_type": "execute_result"
    }
   ],
   "source": [
    "epoch=0\n",
    "y_estimado = np.dot(matriz,valoresB)\n",
    "y_estimado"
   ]
  },
  {
   "cell_type": "code",
   "execution_count": 490,
   "metadata": {},
   "outputs": [],
   "source": [
    "def costo(y_estimado):\n",
    "    error = 0\n",
    "    n =len(y_estimado)\n",
    "    suma=sum(y_estimado)\n",
    "    pfactor=(1/(2*n))\n",
    "    sfactor=pow(suma,2)\n",
    "    error = pfactor*sfactor\n",
    "    return error"
   ]
  },
  {
   "cell_type": "code",
   "execution_count": 491,
   "metadata": {},
   "outputs": [],
   "source": [
    "def datos_tt(datos):\n",
    "     \n",
    "    x = datos['1stFlrSF'].values.reshape(-1,1)\n",
    "    y = datos['SalePrice'].values.reshape(-1,1)\n",
    "    datos_train, datos_test,datos_train_SP, datos_test_SP  = train_test_split(x,y, test_size = 0.20,shuffle=True,random_state=123)\n",
    "    return datos_train,datos_train_SP,x,y"
   ]
  },
  {
   "cell_type": "code",
   "execution_count": 492,
   "metadata": {},
   "outputs": [],
   "source": [
    "def rlinea(datos_train,datos_train_SP):\n",
    "    import numpy as np\n",
    "    from sklearn.linear_model import LinearRegression\n",
    "\n",
    "    lm_1 = LinearRegression()\n",
    "    lm_1.fit(datos_train,datos_train_SP)\n",
    "    B1=np.array([lm_1.coef_])\n",
    "    B0=np.array([lm_1.intercept_])\n",
    "    \n",
    "    y_predict = lm_1.predict(datos_train)\n",
    "    valoresB=np.concatenate((B0, B1), axis=None)\n",
    "    return B1,B0,valoresB,y_predict"
   ]
  },
  {
   "cell_type": "code",
   "execution_count": 493,
   "metadata": {},
   "outputs": [],
   "source": [
    "def matriz(x):\n",
    "    import numpy as np\n",
    "    tamaño = len(x)\n",
    "    x1 = np.ones(tamaño).reshape(-1, 1)\n",
    "    matriz = np.concatenate((x, x1),axis=1)\n",
    "    return matriz"
   ]
  },
  {
   "cell_type": "code",
   "execution_count": 563,
   "metadata": {},
   "outputs": [],
   "source": [
    "def main():\n",
    "    import numpy as np\n",
    "    import matplotlib.pyplot as plt\n",
    "    import pandas as pd\n",
    "    import matplotlib.pyplot as plot\n",
    "    import seaborn as sb\n",
    "    from scipy.stats import norm\n",
    "    from sklearn.linear_model import LinearRegression\n",
    "    from sklearn.model_selection import train_test_split\n",
    "    \n",
    "    epoch=0\n",
    "    error=0\n",
    "    error_iteracion = []\n",
    "    dicIteraciones = {}\n",
    "\n",
    "    epoch=int(input(\"Cantidad de iteraciones\"))\n",
    "    a=0\n",
    "    data = np.load('proyecto_training_data.npy')\n",
    "    datos = pd.DataFrame(data, columns = ['SalePrice','OverallQual','1stFlrSF','TotRmAbvGrd','YearBuilt','LotFrontage'])\n",
    "    x = datos['1stFlrSF'].values.reshape(-1,1)\n",
    "    y = datos['SalePrice'].values.reshape(-1,1)\n",
    "    for i in range(epoch):\n",
    "        datos_train, datos_test,datos_train_SP, datos_test_SP  = train_test_split(x,y, test_size = 0.20,shuffle=True)#,random_state=123\n",
    "        B1,B0,valoresB,y_predict=rlinea(datos_train,datos_train_SP)\n",
    "        matr=matriz(x)\n",
    "        y_estimado = np.dot(matr,valoresB)\n",
    "        error_iteracion.append(costo(y_estimado))\n",
    "        B1,B0=gradiantemb(y_estimado,y,x,B1,B0)\n",
    "        dicIteraciones = {str(a):[x,y,error_iteracion]}\n",
    "        a=a+1\n",
    "    grafica(x,y,datos_train,y_predict)\n",
    "   "
   ]
  },
  {
   "cell_type": "code",
   "execution_count": 564,
   "metadata": {},
   "outputs": [],
   "source": [
    "def gradiantemb(y_estimado,y,x,B1,B0):\n",
    "    import numpy as np\n",
    "    \n",
    "    Alpha=0.05\n",
    "    \n",
    "    n =len(y_estimado)\n",
    "    funo=1/(n)\n",
    "    grmB1=(y_estimado-y)*x\n",
    "    promb1=sum(grmB1)/(n)\n",
    "    B11=B1-(Alpha*grmB1)\n",
    "    grbB0=(y_estimado-y)\n",
    "    promb0=sum(grbB0)/(n)\n",
    "    B00=B0-(Alpha*grbB0)\n",
    "    valoresB=np.concatenate((grbB0, grmB1), axis=None)\n",
    "    return B11,B00"
   ]
  },
  {
   "cell_type": "code",
   "execution_count": 575,
   "metadata": {},
   "outputs": [],
   "source": [
    "def grafica(x,y,datos_train,error_iteracion):\n",
    "    import matplotlib.pyplot as plt\n",
    "    import pandas as pd\n",
    "    \n",
    "    plot.scatter(x,y)\n",
    "    plt.plot(datos_train,error_iteracion,color=\"red\",linewidth=2)\n",
    "    #plt.plot(x,y2,'-',linewidth=2,color='g')\n",
    "    #plt.axis('equal')\n",
    "    plt.show()"
   ]
  },
  {
   "cell_type": "code",
   "execution_count": 576,
   "metadata": {},
   "outputs": [
    {
     "name": "stdin",
     "output_type": "stream",
     "text": [
      "Cantidad de iteraciones 50\n"
     ]
    },
    {
     "data": {
      "image/png": "[encoded data removed]",
      "text/plain": [
       "<Figure size 432x288 with 1 Axes>"
      ]
     },
     "metadata": {
      "needs_background": "light"
     },
     "output_type": "display_data"
    }
   ],
   "source": [
    "main()"
   ]
  },
  {
   "cell_type": "code",
   "execution_count": null,
   "metadata": {},
   "outputs": [],
   "source": []
  }
 ],
 "metadata": {
  "kernelspec": {
   "display_name": "Python 3",
   "language": "python",
   "name": "python3"
  },
  "language_info": {
   "codemirror_mode": {
    "name": "ipython",
    "version": 3
   },
   "file_extension": ".py",
   "mimetype": "text/x-python",
   "name": "python",
   "nbconvert_exporter": "python",
   "pygments_lexer": "ipython3",
   "version": "3.8.5"
  }
 },
 "nbformat": 4,
 "nbformat_minor": 4
}
